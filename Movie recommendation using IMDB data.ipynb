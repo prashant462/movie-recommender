{
 "cells": [
  {
   "cell_type": "markdown",
   "metadata": {},
   "source": [
    "# MOVIE RECOMMENDATION USING IMDB DATA"
   ]
  },
  {
   "cell_type": "code",
   "execution_count": 3,
   "metadata": {},
   "outputs": [],
   "source": [
    "# first of all we will catogorize the movies according to emotions \n",
    "# There are 8 classes of emotion that would be effective to classify a text.\n",
    "#These are: ‘Anger’, ‘Anticipation’, ‘Disgust’, ‘Fear’, ‘Joy’, ‘Sad’, ‘Surprise’, ‘Trust’.\n",
    "\n",
    "#Sad – Drama\n",
    "#Disgust – Musical\n",
    "#Anger – Family\n",
    "#Anticipation – Thriller\n",
    "#Fear – Sport\n",
    "#Enjoyment – Thriller\n",
    "#Trust – Western\n",
    "#Surprise – Film-Noir"
   ]
  },
  {
   "cell_type": "code",
   "execution_count": 10,
   "metadata": {},
   "outputs": [],
   "source": [
    "from bs4 import BeautifulSoup as SOUP \n",
    "import re \n",
    "import urllib.request"
   ]
  },
  {
   "cell_type": "code",
   "execution_count": 16,
   "metadata": {},
   "outputs": [],
   "source": [
    "def recommend(emotions):\n",
    "    if(emotion == \"Sad\"):\n",
    "        urlhere = 'http://www.imdb.com/search/title?genres=drama&title_type=feature&sort=moviemeter, asc'\n",
    "    elif(emotion == \"Disgust\"): \n",
    "        urlhere = 'http://www.imdb.com/search/title?genres=musical&title_type=feature&sort=moviemeter, asc'\n",
    "    elif(emotion == \"Anger\"): \n",
    "        urlhere = 'http://www.imdb.com/search/title?genres=family&title_type=feature&sort=moviemeter, asc'\n",
    "    elif(emotion == \"Anticipation\"): \n",
    "        urlhere = 'http://www.imdb.com/search/title?genres=thriller&title_type=feature&sort=moviemeter, asc'\n",
    "    elif(emotion == \"Fear\"): \n",
    "        urlhere = 'http://www.imdb.com/search/title?genres=sport&title_type=feature&sort=moviemeter, asc'\n",
    "    elif(emotion == \"Enjoyment\"): \n",
    "        urlhere = 'http://www.imdb.com/search/title?genres=thriller&title_type=feature&sort=moviemeter, asc'\n",
    "    elif(emotion == \"Trust\"): \n",
    "        urlhere = 'http://www.imdb.com/search/title?genres=western&title_type=feature&sort=moviemeter, asc'\n",
    "    elif(emotion == \"Surprise\"): \n",
    "        urlhere = 'http://www.imdb.com/search/title?genres=film_noir&title_type=feature&sort=moviemeter, asc' \n",
    "    scraped_data= urllib.request.urlopen(urlhere)  \n",
    "    data = scraped_data.read()\n",
    "  \n",
    "    # Parsing the data using \n",
    "    # BeautifulSoup \n",
    "    soup = SOUP(data, \"lxml\") \n",
    "  \n",
    "    # Extract movie titles from the \n",
    "    # data using regex \n",
    "    title = soup.find_all(\"a\", attrs = {\"href\" : re.compile(r'\\/title\\/tt+\\d*\\/')}) \n",
    "    return title "
   ]
  },
  {
   "cell_type": "code",
   "execution_count": 31,
   "metadata": {},
   "outputs": [
    {
     "name": "stdout",
     "output_type": "stream",
     "text": [
      "Enter the emotion: Fear\n",
      "\n",
      "\n",
      "Ford v Ferrari\n",
      "The Peanut Butter Falcon\n",
      "The Art of Racing in the Rain\n",
      "Bigil\n"
     ]
    }
   ],
   "source": [
    "emotion = input(\"Enter the emotion: \") \n",
    "a = recommend(emotion) \n",
    "count=0\n",
    "for i in a:\n",
    "    tmp = str(i).split('>')\n",
    "    if(len(tmp) == 3): \n",
    "        print(tmp[1][:-3]) \n",
    "  \n",
    "    if(count > 13): \n",
    "        break\n",
    "    count += 1\n",
    "\n"
   ]
  },
  {
   "cell_type": "code",
   "execution_count": null,
   "metadata": {},
   "outputs": [],
   "source": []
  }
 ],
 "metadata": {
  "kernelspec": {
   "display_name": "Python 3",
   "language": "python",
   "name": "python3"
  },
  "language_info": {
   "codemirror_mode": {
    "name": "ipython",
    "version": 3
   },
   "file_extension": ".py",
   "mimetype": "text/x-python",
   "name": "python",
   "nbconvert_exporter": "python",
   "pygments_lexer": "ipython3",
   "version": "3.7.3"
  }
 },
 "nbformat": 4,
 "nbformat_minor": 2
}
